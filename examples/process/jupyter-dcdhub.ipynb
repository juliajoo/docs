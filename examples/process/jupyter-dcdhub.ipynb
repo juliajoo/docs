{
 "cells": [
  {
   "cell_type": "markdown",
   "metadata": {},
   "source": [
    "# Example of Data Analysis with DCD Hub Data"
   ]
  },
  {
   "cell_type": "markdown",
   "metadata": {},
   "source": [
    "First, we will install the Python SDK of DCD-hub and other libraries to gerate plot from the data."
   ]
  },
  {
   "cell_type": "markdown",
   "metadata": {},
   "source": [
    "In your project folder, create \"requirements.txt\" file and save the file with the text written below:\n",
    "\n",
    "dcd-sdk>=0.0.22 <br />\n",
    "paho-mqtt <br />\n",
    "python-dotenv <br />\n",
    "pyserial <br />\n",
    "requests <br />\n",
    "jwt>=0.6.1 <br />\n",
    "dotenv <br />\n",
    "numpy <br />\n",
    "pandas <br />\n",
    "matplotlib <br />\n",
    "scipy <br />\n"
   ]
  },
  {
   "cell_type": "markdown",
   "metadata": {},
   "source": [
    "Open the terminal (unix)/commant prompt(windows) and enter command \"without Quotes\"<br /> \"pip3 install -r requirements.txt --user\" "
   ]
  },
  {
   "cell_type": "markdown",
   "metadata": {},
   "source": [
    "Also, create a .env file in the same project folder and write your Thing_ID and THING_TOKEN in the format mentione below \"without Quotes\"\n",
    "\n",
    "\n",
    "THING_ID=\"YOUR THING ID\"<br />\n",
    "THING_TOKEN=\"YOUR THING TOKEN\"<br />"
   ]
  },
  {
   "cell_type": "markdown",
   "metadata": {},
   "source": [
    "Now here in the code, we first import the dcd-hub here."
   ]
  },
  {
   "cell_type": "code",
   "execution_count": 1,
   "metadata": {},
   "outputs": [],
   "source": [
    "from dcd.entities.thing import Thing"
   ]
  },
  {
   "cell_type": "markdown",
   "metadata": {},
   "source": [
    "Then, we provide the thing ID and access token (replace with yours)"
   ]
  },
  {
   "cell_type": "code",
   "execution_count": 2,
   "metadata": {},
   "outputs": [
    {
     "data": {
      "text/plain": [
       "True"
      ]
     },
     "execution_count": 2,
     "metadata": {},
     "output_type": "execute_result"
    }
   ],
   "source": [
    "from dotenv import load_dotenv\n",
    "import os\n",
    "load_dotenv()"
   ]
  },
  {
   "cell_type": "markdown",
   "metadata": {},
   "source": [
    "Now here in the code, we instantiate a Thing with its credential that we stored in .env file, and then we fetch its details"
   ]
  },
  {
   "cell_type": "code",
   "execution_count": 3,
   "metadata": {
    "scrolled": true
   },
   "outputs": [
    {
     "name": "stderr",
     "output_type": "stream",
     "text": [
      "INFO:dcd:things:wheelchair-group-1-cd6d:Initialising MQTT connection for Thing 'dcd:things:wheelchair-group-1-cd6d'\n",
      "DEBUG:urllib3.connectionpool:Starting new HTTPS connection (1): dwd.tudelft.nl:443\n",
      "INFO:dcd:things:wheelchair-group-1-cd6d:Connection successful\n",
      "DEBUG:urllib3.connectionpool:https://dwd.tudelft.nl:443 \"GET /api/things/dcd:things:wheelchair-group-1-cd6d HTTP/1.1\" 200 283\n"
     ]
    },
    {
     "name": "stdout",
     "output_type": "stream",
     "text": [
      "DigiCertCA.crt exist.\n",
      "{'thing': {'id': 'dcd:things:wheelchair-group-1-cd6d', 'name': 'Wheelchair group 1', 'description': 'Wheelchair group 1', 'type': 'Wheelchair', 'properties': [], 'registeredAt': '2019-10-21T09:54:33.000Z', 'readAt': 1571669319281, 'keys': {}}}\n"
     ]
    }
   ],
   "source": [
    "THING_ID = os.environ['THING_ID']\n",
    "THING_TOKEN = os.environ['THING_TOKEN']\n",
    "my_thing = Thing(thing_id=THING_ID, token=THING_TOKEN)\n",
    "my_thing.read()"
   ]
  },
  {
   "cell_type": "markdown",
   "metadata": {},
   "source": [
    "What does a Thing look like? Lets see it here in the output generated below from json parser function \"to_json()\""
   ]
  },
  {
   "cell_type": "code",
   "execution_count": 21,
   "metadata": {},
   "outputs": [
    {
     "data": {
      "text/plain": [
       "{'id': 'dcd:things:wheelchair-group-1-cd6d',\n",
       " 'name': 'Wheelchair group 1',\n",
       " 'description': 'Wheelchair group 1',\n",
       " 'type': 'Wheelchair',\n",
       " 'properties': []}"
      ]
     },
     "execution_count": 21,
     "metadata": {},
     "output_type": "execute_result"
    }
   ],
   "source": [
    "my_thing.to_json()"
   ]
  },
  {
   "cell_type": "markdown",
   "metadata": {},
   "source": [
    "Which property do we want to explore and over which time frame? To do that, We will define the \"START_DATE\" and \"END_DATE\" for our time frame"
   ]
  },
  {
   "cell_type": "code",
   "execution_count": 22,
   "metadata": {},
   "outputs": [],
   "source": [
    "from datetime import datetime\n",
    "# What dates?\n",
    "START_DATE = \"2019-10-08 21:17:00\"\n",
    "END_DATE = \"2019-11-08 21:25:00\"\n",
    "\n",
    "from datetime import datetime\n",
    "DATE_FORMAT = '%Y-%m-%d %H:%M:%S'\n",
    "from_ts = datetime.timestamp(datetime.strptime(START_DATE, DATE_FORMAT)) * 1000\n",
    "to_ts = datetime.timestamp(datetime.strptime(END_DATE, DATE_FORMAT)) * 1000"
   ]
  },
  {
   "cell_type": "markdown",
   "metadata": {},
   "source": [
    "Let's find this property and read the data. Replace \"Property_Name\" with your own property name which you would like to read data from. For example, read the accelerometer value of the thing, use PROPERTY_NAME = \"Accelerometer\""
   ]
  },
  {
   "cell_type": "code",
   "execution_count": 23,
   "metadata": {},
   "outputs": [
    {
     "ename": "AttributeError",
     "evalue": "'NoneType' object has no attribute 'read'",
     "output_type": "error",
     "traceback": [
      "\u001b[0;31m---------------------------------------------------------------------------\u001b[0m",
      "\u001b[0;31mAttributeError\u001b[0m                            Traceback (most recent call last)",
      "\u001b[0;32m<ipython-input-23-c275141d1d2e>\u001b[0m in \u001b[0;36m<module>\u001b[0;34m\u001b[0m\n\u001b[1;32m      2\u001b[0m \u001b[0;34m\u001b[0m\u001b[0m\n\u001b[1;32m      3\u001b[0m \u001b[0mmy_property\u001b[0m \u001b[0;34m=\u001b[0m \u001b[0mmy_thing\u001b[0m\u001b[0;34m.\u001b[0m\u001b[0mfind_property_by_name\u001b[0m\u001b[0;34m(\u001b[0m\u001b[0mPROPERTY_NAME\u001b[0m\u001b[0;34m)\u001b[0m\u001b[0;34m\u001b[0m\u001b[0;34m\u001b[0m\u001b[0m\n\u001b[0;32m----> 4\u001b[0;31m \u001b[0mmy_property\u001b[0m\u001b[0;34m.\u001b[0m\u001b[0mread\u001b[0m\u001b[0;34m(\u001b[0m\u001b[0mfrom_ts\u001b[0m\u001b[0;34m,\u001b[0m \u001b[0mto_ts\u001b[0m\u001b[0;34m)\u001b[0m\u001b[0;34m\u001b[0m\u001b[0;34m\u001b[0m\u001b[0m\n\u001b[0m",
      "\u001b[0;31mAttributeError\u001b[0m: 'NoneType' object has no attribute 'read'"
     ]
    }
   ],
   "source": [
    "PROPERTY_NAME = \"Accelerometer\"\n",
    "\n",
    "my_property = my_thing.find_property_by_name(PROPERTY_NAME)\n",
    "my_property.read(from_ts, to_ts)"
   ]
  },
  {
   "cell_type": "markdown",
   "metadata": {},
   "source": [
    "How many data point did we get?"
   ]
  },
  {
   "cell_type": "code",
   "execution_count": 24,
   "metadata": {},
   "outputs": [
    {
     "ename": "AttributeError",
     "evalue": "'NoneType' object has no attribute 'values'",
     "output_type": "error",
     "traceback": [
      "\u001b[0;31m---------------------------------------------------------------------------\u001b[0m",
      "\u001b[0;31mAttributeError\u001b[0m                            Traceback (most recent call last)",
      "\u001b[0;32m<ipython-input-24-b9ee89cc78ac>\u001b[0m in \u001b[0;36m<module>\u001b[0;34m\u001b[0m\n\u001b[0;32m----> 1\u001b[0;31m \u001b[0mprint\u001b[0m\u001b[0;34m(\u001b[0m\u001b[0mlen\u001b[0m\u001b[0;34m(\u001b[0m\u001b[0mmy_property\u001b[0m\u001b[0;34m.\u001b[0m\u001b[0mvalues\u001b[0m\u001b[0;34m)\u001b[0m\u001b[0;34m)\u001b[0m\u001b[0;34m\u001b[0m\u001b[0;34m\u001b[0m\u001b[0m\n\u001b[0m",
      "\u001b[0;31mAttributeError\u001b[0m: 'NoneType' object has no attribute 'values'"
     ]
    }
   ],
   "source": [
    "print(len(my_property.values))"
   ]
  },
  {
   "cell_type": "markdown",
   "metadata": {},
   "source": [
    "Display values"
   ]
  },
  {
   "cell_type": "code",
   "execution_count": 25,
   "metadata": {},
   "outputs": [
    {
     "ename": "AttributeError",
     "evalue": "'NoneType' object has no attribute 'values'",
     "output_type": "error",
     "traceback": [
      "\u001b[0;31m---------------------------------------------------------------------------\u001b[0m",
      "\u001b[0;31mAttributeError\u001b[0m                            Traceback (most recent call last)",
      "\u001b[0;32m<ipython-input-25-1c916dc5d935>\u001b[0m in \u001b[0;36m<module>\u001b[0;34m\u001b[0m\n\u001b[0;32m----> 1\u001b[0;31m \u001b[0mmy_property\u001b[0m\u001b[0;34m.\u001b[0m\u001b[0mvalues\u001b[0m\u001b[0;34m\u001b[0m\u001b[0;34m\u001b[0m\u001b[0m\n\u001b[0m",
      "\u001b[0;31mAttributeError\u001b[0m: 'NoneType' object has no attribute 'values'"
     ]
    }
   ],
   "source": [
    "my_property.values"
   ]
  },
  {
   "cell_type": "markdown",
   "metadata": {},
   "source": [
    "# From CSV"
   ]
  },
  {
   "cell_type": "markdown",
   "metadata": {},
   "source": [
    "Here we will extract data from the CSV file and plot some chart "
   ]
  },
  {
   "cell_type": "code",
   "execution_count": 26,
   "metadata": {
    "pycharm": {
     "name": "#%%\n"
    },
    "scrolled": true
   },
   "outputs": [
    {
     "data": {
      "text/html": [
       "<div>\n",
       "<style scoped>\n",
       "    .dataframe tbody tr th:only-of-type {\n",
       "        vertical-align: middle;\n",
       "    }\n",
       "\n",
       "    .dataframe tbody tr th {\n",
       "        vertical-align: top;\n",
       "    }\n",
       "\n",
       "    .dataframe thead th {\n",
       "        text-align: right;\n",
       "    }\n",
       "</style>\n",
       "<table border=\"1\" class=\"dataframe\">\n",
       "  <thead>\n",
       "    <tr style=\"text-align: right;\">\n",
       "      <th></th>\n",
       "      <th>x</th>\n",
       "      <th>y</th>\n",
       "      <th>z</th>\n",
       "    </tr>\n",
       "  </thead>\n",
       "  <tbody>\n",
       "    <tr>\n",
       "      <th>2019-10-07 16:56:11.446</th>\n",
       "      <td>0.009701</td>\n",
       "      <td>-0.074115</td>\n",
       "      <td>-0.185453</td>\n",
       "    </tr>\n",
       "    <tr>\n",
       "      <th>2019-10-07 16:56:11.533</th>\n",
       "      <td>0.027269</td>\n",
       "      <td>-0.069583</td>\n",
       "      <td>-0.198343</td>\n",
       "    </tr>\n",
       "    <tr>\n",
       "      <th>2019-10-07 16:56:11.643</th>\n",
       "      <td>0.039780</td>\n",
       "      <td>-0.066105</td>\n",
       "      <td>-0.186640</td>\n",
       "    </tr>\n",
       "    <tr>\n",
       "      <th>2019-10-07 16:56:11.785</th>\n",
       "      <td>0.052060</td>\n",
       "      <td>-0.077641</td>\n",
       "      <td>-0.170837</td>\n",
       "    </tr>\n",
       "    <tr>\n",
       "      <th>2019-10-07 16:56:11.884</th>\n",
       "      <td>0.039715</td>\n",
       "      <td>-0.071593</td>\n",
       "      <td>-0.188471</td>\n",
       "    </tr>\n",
       "    <tr>\n",
       "      <th>...</th>\n",
       "      <td>...</td>\n",
       "      <td>...</td>\n",
       "      <td>...</td>\n",
       "    </tr>\n",
       "    <tr>\n",
       "      <th>2019-10-07 16:56:38.723</th>\n",
       "      <td>-0.838292</td>\n",
       "      <td>0.228826</td>\n",
       "      <td>0.044570</td>\n",
       "    </tr>\n",
       "    <tr>\n",
       "      <th>2019-10-07 16:56:38.886</th>\n",
       "      <td>-0.810323</td>\n",
       "      <td>0.222667</td>\n",
       "      <td>0.028433</td>\n",
       "    </tr>\n",
       "    <tr>\n",
       "      <th>2019-10-07 16:56:38.886</th>\n",
       "      <td>-0.849075</td>\n",
       "      <td>0.214866</td>\n",
       "      <td>0.060519</td>\n",
       "    </tr>\n",
       "    <tr>\n",
       "      <th>2019-10-07 16:56:39.045</th>\n",
       "      <td>-0.849561</td>\n",
       "      <td>0.217760</td>\n",
       "      <td>0.058103</td>\n",
       "    </tr>\n",
       "    <tr>\n",
       "      <th>2019-10-07 16:56:39.054</th>\n",
       "      <td>-0.845175</td>\n",
       "      <td>0.211169</td>\n",
       "      <td>0.052378</td>\n",
       "    </tr>\n",
       "  </tbody>\n",
       "</table>\n",
       "<p>272 rows × 3 columns</p>\n",
       "</div>"
      ],
      "text/plain": [
       "                                x         y         z\n",
       "2019-10-07 16:56:11.446  0.009701 -0.074115 -0.185453\n",
       "2019-10-07 16:56:11.533  0.027269 -0.069583 -0.198343\n",
       "2019-10-07 16:56:11.643  0.039780 -0.066105 -0.186640\n",
       "2019-10-07 16:56:11.785  0.052060 -0.077641 -0.170837\n",
       "2019-10-07 16:56:11.884  0.039715 -0.071593 -0.188471\n",
       "...                           ...       ...       ...\n",
       "2019-10-07 16:56:38.723 -0.838292  0.228826  0.044570\n",
       "2019-10-07 16:56:38.886 -0.810323  0.222667  0.028433\n",
       "2019-10-07 16:56:38.886 -0.849075  0.214866  0.060519\n",
       "2019-10-07 16:56:39.045 -0.849561  0.217760  0.058103\n",
       "2019-10-07 16:56:39.054 -0.845175  0.211169  0.052378\n",
       "\n",
       "[272 rows x 3 columns]"
      ]
     },
     "execution_count": 26,
     "metadata": {},
     "output_type": "execute_result"
    }
   ],
   "source": [
    "from numpy import genfromtxt\n",
    "import pandas as pd\n",
    "data = genfromtxt('data.csv', delimiter=',')\n",
    "data_frame = pd.DataFrame(data[:,1:], index = pd.DatetimeIndex(pd.to_datetime(data[:,0], unit='ms')), columns = ['x', 'y', 'z'])\n",
    "data_frame"
   ]
  },
  {
   "cell_type": "markdown",
   "metadata": {},
   "source": [
    "# Plot some charts with Matplotlib\n",
    "In this example we plot an histogram, distribution of all values and dimensions."
   ]
  },
  {
   "cell_type": "markdown",
   "metadata": {
    "pycharm": {
     "name": "#%%\n"
    }
   },
   "source": [
    "import matplotlib.pyplot as plt\n",
    "from matplotlib.pyplot import figure\n",
    "from numpy import ma\n",
    "data = ma.array(my_property.values)"
   ]
  },
  {
   "cell_type": "code",
   "execution_count": 27,
   "metadata": {
    "pycharm": {
     "name": "#%%\n"
    }
   },
   "outputs": [
    {
     "data": {
      "text/plain": [
       "[<matplotlib.lines.Line2D at 0x12f328690>,\n",
       " <matplotlib.lines.Line2D at 0x12f590750>,\n",
       " <matplotlib.lines.Line2D at 0x12f599750>]"
      ]
     },
     "execution_count": 27,
     "metadata": {},
     "output_type": "execute_result"
    },
    {
     "data": {
      "image/png": "[encoded data removed]",
      "text/plain": [
       "<Figure size 1080x360 with 1 Axes>"
      ]
     },
     "metadata": {
      "needs_background": "light"
     },
     "output_type": "display_data"
    }
   ],
   "source": [
    "import matplotlib.pyplot as plt\n",
    "from matplotlib.pyplot import figure\n",
    "from numpy import ma\n",
    "figure(num=None, figsize=(15, 5))\n",
    "t = data_frame.index\n",
    "plt.plot(t, data_frame.x, t, data_frame.y, t, data_frame.z)"
   ]
  },
  {
   "cell_type": "code",
   "execution_count": 28,
   "metadata": {
    "pycharm": {
     "name": "#%%\n"
    }
   },
   "outputs": [
    {
     "data": {
      "image/png": "[encoded data removed]",
      "text/plain": [
       "<Figure size 432x288 with 1 Axes>"
      ]
     },
     "metadata": {
      "needs_background": "light"
     },
     "output_type": "display_data"
    }
   ],
   "source": [
    "plt.hist(data[:,1:])\n",
    "plt.show()"
   ]
  },
  {
   "cell_type": "markdown",
   "metadata": {},
   "source": [
    "# Generate statistics with NumPy and Pandas"
   ]
  },
  {
   "cell_type": "code",
   "execution_count": 29,
   "metadata": {},
   "outputs": [],
   "source": [
    "import numpy as np\n",
    "from scipy.stats import kurtosis, skew"
   ]
  },
  {
   "cell_type": "code",
   "execution_count": 30,
   "metadata": {},
   "outputs": [
    {
     "data": {
      "text/plain": [
       "array([-17.14224625, -13.79257584, -20.64288521])"
      ]
     },
     "execution_count": 30,
     "metadata": {},
     "output_type": "execute_result"
    }
   ],
   "source": [
    "np.min(data[:,1:4], axis=0)"
   ]
  },
  {
   "cell_type": "code",
   "execution_count": 31,
   "metadata": {},
   "outputs": [
    {
     "data": {
      "text/plain": [
       "array([-0.89688613, -1.23809469,  0.76757991])"
      ]
     },
     "execution_count": 31,
     "metadata": {},
     "output_type": "execute_result"
    }
   ],
   "source": [
    "skew(data[:,1:4])"
   ]
  },
  {
   "cell_type": "markdown",
   "metadata": {},
   "source": [
    "You can select a column (slice) of data, or a subset of data. In the example below we select rows\n",
    "from 10 to 20 (10 in total) and the colum 1 to x (i.e skiping the first column representing the time)."
   ]
  },
  {
   "cell_type": "code",
   "execution_count": 32,
   "metadata": {},
   "outputs": [
    {
     "data": {
      "text/plain": [
       "array([[ 0.00970082, -0.07411532, -0.18545274],\n",
       "       [ 0.02726864, -0.06958251, -0.19834329],\n",
       "       [ 0.03978035, -0.06610464, -0.18664022],\n",
       "       [ 0.05206013, -0.07764083, -0.17083664],\n",
       "       [ 0.0397151 , -0.07159336, -0.188471  ],\n",
       "       [ 0.02992328, -0.07444451, -0.18695566],\n",
       "       [ 0.03363691, -0.10220957, -0.15930049],\n",
       "       [ 0.01179356, -0.06460355, -0.18997429],\n",
       "       [ 0.02983755, -0.06932511, -0.17842238],\n",
       "       [ 0.04382452, -0.06352246, -0.19168401]])"
      ]
     },
     "execution_count": 32,
     "metadata": {},
     "output_type": "execute_result"
    }
   ],
   "source": [
    "data[:10,1:]"
   ]
  },
  {
   "cell_type": "markdown",
   "metadata": {},
   "source": [
    "Out of the box, Pandas give you some statistics, do not forget to convert your array into a DataFrame."
   ]
  },
  {
   "cell_type": "code",
   "execution_count": 33,
   "metadata": {
    "scrolled": true
   },
   "outputs": [
    {
     "data": {
      "text/html": [
       "<div>\n",
       "<style scoped>\n",
       "    .dataframe tbody tr th:only-of-type {\n",
       "        vertical-align: middle;\n",
       "    }\n",
       "\n",
       "    .dataframe tbody tr th {\n",
       "        vertical-align: top;\n",
       "    }\n",
       "\n",
       "    .dataframe thead th {\n",
       "        text-align: right;\n",
       "    }\n",
       "</style>\n",
       "<table border=\"1\" class=\"dataframe\">\n",
       "  <thead>\n",
       "    <tr style=\"text-align: right;\">\n",
       "      <th></th>\n",
       "      <th>0</th>\n",
       "      <th>1</th>\n",
       "      <th>2</th>\n",
       "    </tr>\n",
       "  </thead>\n",
       "  <tbody>\n",
       "    <tr>\n",
       "      <th>count</th>\n",
       "      <td>272.000000</td>\n",
       "      <td>272.000000</td>\n",
       "      <td>272.000000</td>\n",
       "    </tr>\n",
       "    <tr>\n",
       "      <th>mean</th>\n",
       "      <td>-0.557388</td>\n",
       "      <td>-1.787206</td>\n",
       "      <td>-0.051416</td>\n",
       "    </tr>\n",
       "    <tr>\n",
       "      <th>std</th>\n",
       "      <td>3.745995</td>\n",
       "      <td>3.214806</td>\n",
       "      <td>7.316358</td>\n",
       "    </tr>\n",
       "    <tr>\n",
       "      <th>min</th>\n",
       "      <td>-17.142246</td>\n",
       "      <td>-13.792576</td>\n",
       "      <td>-20.642885</td>\n",
       "    </tr>\n",
       "    <tr>\n",
       "      <th>25%</th>\n",
       "      <td>-0.903258</td>\n",
       "      <td>-3.436087</td>\n",
       "      <td>-2.816740</td>\n",
       "    </tr>\n",
       "    <tr>\n",
       "      <th>50%</th>\n",
       "      <td>0.025114</td>\n",
       "      <td>-0.084160</td>\n",
       "      <td>-0.173673</td>\n",
       "    </tr>\n",
       "    <tr>\n",
       "      <th>75%</th>\n",
       "      <td>0.410247</td>\n",
       "      <td>0.214146</td>\n",
       "      <td>0.080619</td>\n",
       "    </tr>\n",
       "    <tr>\n",
       "      <th>max</th>\n",
       "      <td>13.336728</td>\n",
       "      <td>3.991868</td>\n",
       "      <td>21.804655</td>\n",
       "    </tr>\n",
       "  </tbody>\n",
       "</table>\n",
       "</div>"
      ],
      "text/plain": [
       "                0           1           2\n",
       "count  272.000000  272.000000  272.000000\n",
       "mean    -0.557388   -1.787206   -0.051416\n",
       "std      3.745995    3.214806    7.316358\n",
       "min    -17.142246  -13.792576  -20.642885\n",
       "25%     -0.903258   -3.436087   -2.816740\n",
       "50%      0.025114   -0.084160   -0.173673\n",
       "75%      0.410247    0.214146    0.080619\n",
       "max     13.336728    3.991868   21.804655"
      ]
     },
     "execution_count": 33,
     "metadata": {},
     "output_type": "execute_result"
    }
   ],
   "source": [
    "data_frame = pd.DataFrame(data[:,1:], index = pd.DatetimeIndex(pd.to_datetime(data[:,0], unit='ms')))\n",
    "pd.DataFrame.describe(data_frame)"
   ]
  },
  {
   "cell_type": "code",
   "execution_count": 34,
   "metadata": {},
   "outputs": [
    {
     "data": {
      "text/html": [
       "<div>\n",
       "<style scoped>\n",
       "    .dataframe tbody tr th:only-of-type {\n",
       "        vertical-align: middle;\n",
       "    }\n",
       "\n",
       "    .dataframe tbody tr th {\n",
       "        vertical-align: top;\n",
       "    }\n",
       "\n",
       "    .dataframe thead th {\n",
       "        text-align: right;\n",
       "    }\n",
       "</style>\n",
       "<table border=\"1\" class=\"dataframe\">\n",
       "  <thead>\n",
       "    <tr style=\"text-align: right;\">\n",
       "      <th></th>\n",
       "      <th>0</th>\n",
       "      <th>1</th>\n",
       "      <th>2</th>\n",
       "    </tr>\n",
       "  </thead>\n",
       "  <tbody>\n",
       "    <tr>\n",
       "      <th>2019-10-07 16:56:11.446</th>\n",
       "      <td>NaN</td>\n",
       "      <td>NaN</td>\n",
       "      <td>NaN</td>\n",
       "    </tr>\n",
       "    <tr>\n",
       "      <th>2019-10-07 16:56:11.533</th>\n",
       "      <td>NaN</td>\n",
       "      <td>NaN</td>\n",
       "      <td>NaN</td>\n",
       "    </tr>\n",
       "    <tr>\n",
       "      <th>2019-10-07 16:56:11.643</th>\n",
       "      <td>NaN</td>\n",
       "      <td>NaN</td>\n",
       "      <td>NaN</td>\n",
       "    </tr>\n",
       "    <tr>\n",
       "      <th>2019-10-07 16:56:11.785</th>\n",
       "      <td>NaN</td>\n",
       "      <td>NaN</td>\n",
       "      <td>NaN</td>\n",
       "    </tr>\n",
       "    <tr>\n",
       "      <th>2019-10-07 16:56:11.884</th>\n",
       "      <td>NaN</td>\n",
       "      <td>NaN</td>\n",
       "      <td>NaN</td>\n",
       "    </tr>\n",
       "    <tr>\n",
       "      <th>...</th>\n",
       "      <td>...</td>\n",
       "      <td>...</td>\n",
       "      <td>...</td>\n",
       "    </tr>\n",
       "    <tr>\n",
       "      <th>2019-10-07 16:56:38.723</th>\n",
       "      <td>0.013891</td>\n",
       "      <td>0.007798</td>\n",
       "      <td>0.015456</td>\n",
       "    </tr>\n",
       "    <tr>\n",
       "      <th>2019-10-07 16:56:38.886</th>\n",
       "      <td>0.016892</td>\n",
       "      <td>0.007907</td>\n",
       "      <td>0.014749</td>\n",
       "    </tr>\n",
       "    <tr>\n",
       "      <th>2019-10-07 16:56:38.886</th>\n",
       "      <td>0.015726</td>\n",
       "      <td>0.008693</td>\n",
       "      <td>0.013981</td>\n",
       "    </tr>\n",
       "    <tr>\n",
       "      <th>2019-10-07 16:56:39.045</th>\n",
       "      <td>0.015876</td>\n",
       "      <td>0.008522</td>\n",
       "      <td>0.012299</td>\n",
       "    </tr>\n",
       "    <tr>\n",
       "      <th>2019-10-07 16:56:39.054</th>\n",
       "      <td>0.015752</td>\n",
       "      <td>0.009531</td>\n",
       "      <td>0.011155</td>\n",
       "    </tr>\n",
       "  </tbody>\n",
       "</table>\n",
       "<p>272 rows × 3 columns</p>\n",
       "</div>"
      ],
      "text/plain": [
       "                                0         1         2\n",
       "2019-10-07 16:56:11.446       NaN       NaN       NaN\n",
       "2019-10-07 16:56:11.533       NaN       NaN       NaN\n",
       "2019-10-07 16:56:11.643       NaN       NaN       NaN\n",
       "2019-10-07 16:56:11.785       NaN       NaN       NaN\n",
       "2019-10-07 16:56:11.884       NaN       NaN       NaN\n",
       "...                           ...       ...       ...\n",
       "2019-10-07 16:56:38.723  0.013891  0.007798  0.015456\n",
       "2019-10-07 16:56:38.886  0.016892  0.007907  0.014749\n",
       "2019-10-07 16:56:38.886  0.015726  0.008693  0.013981\n",
       "2019-10-07 16:56:39.045  0.015876  0.008522  0.012299\n",
       "2019-10-07 16:56:39.054  0.015752  0.009531  0.011155\n",
       "\n",
       "[272 rows x 3 columns]"
      ]
     },
     "execution_count": 34,
     "metadata": {},
     "output_type": "execute_result"
    }
   ],
   "source": [
    "data_frame.rolling(10).std()"
   ]
  },
  {
   "cell_type": "markdown",
   "metadata": {},
   "source": [
    "# Rolling / Sliding Window\n",
    "To apply statistics on a sliding (or rolling) window, we can use the rolling() function of a data frame. In the example below, we roll with a window size of 4 elements to apply a skew()"
   ]
  },
  {
   "cell_type": "code",
   "execution_count": 35,
   "metadata": {},
   "outputs": [
    {
     "data": {
      "image/png": "[encoded data removed]",
      "text/plain": [
       "<Figure size 432x288 with 1 Axes>"
      ]
     },
     "metadata": {
      "needs_background": "light"
     },
     "output_type": "display_data"
    }
   ],
   "source": [
    "rolling2s = data_frame.rolling('2s').std()\n",
    "plt.plot(rolling2s)\n",
    "plt.show()"
   ]
  },
  {
   "cell_type": "code",
   "execution_count": 36,
   "metadata": {},
   "outputs": [
    {
     "data": {
      "image/png": "[encoded data removed]",
      "text/plain": [
       "<Figure size 432x288 with 1 Axes>"
      ]
     },
     "metadata": {
      "needs_background": "light"
     },
     "output_type": "display_data"
    }
   ],
   "source": [
    "rolling100_data_points = data_frame.rolling(100).skew()\n",
    "plt.plot(rolling100_data_points)\n",
    "plt.show()"
   ]
  },
  {
   "cell_type": "markdown",
   "metadata": {},
   "source": [
    "# Zero Crossing"
   ]
  },
  {
   "cell_type": "code",
   "execution_count": 37,
   "metadata": {},
   "outputs": [
    {
     "data": {
      "image/png": "[encoded data removed]",
      "text/plain": [
       "<Figure size 432x288 with 1 Axes>"
      ]
     },
     "metadata": {
      "needs_background": "light"
     },
     "output_type": "display_data"
    }
   ],
   "source": [
    "plt.hist(np.where(np.diff(np.sign(data[:,1]))))\n",
    "plt.show()"
   ]
  },
  {
   "cell_type": "markdown",
   "metadata": {},
   "source": [
    "https://docs.scipy.org/doc/scipy/reference/stats.html#discrete-distributions"
   ]
  }
 ],
 "metadata": {
  "kernelspec": {
   "display_name": "Python 3",
   "language": "python",
   "name": "python3"
  },
  "language_info": {
   "codemirror_mode": {
    "name": "ipython",
    "version": 3
   },
   "file_extension": ".py",
   "mimetype": "text/x-python",
   "name": "python",
   "nbconvert_exporter": "python",
   "pygments_lexer": "ipython3",
   "version": "3.7.4"
  },
  "pycharm": {
   "stem_cell": {
    "cell_type": "raw",
    "source": [],
    "metadata": {
     "collapsed": false
    }
   }
  }
 },
 "nbformat": 4,
 "nbformat_minor": 2
}
